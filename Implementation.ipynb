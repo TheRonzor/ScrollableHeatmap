{
 "cells": [
  {
   "cell_type": "code",
   "execution_count": 1,
   "id": "fcc2ab9e-b632-4d9c-99fb-911d0c7de77c",
   "metadata": {},
   "outputs": [
    {
     "name": "stdout",
     "output_type": "stream",
     "text": [
      "Generating frame 100\n"
     ]
    }
   ],
   "source": [
    "# This cell generates the fake data so we have something to look at.\n",
    "from src.data_generator import DataGenerator as DG\n",
    "\n",
    "# Each frame will be an X by Y array corresponding to a single frame from a heatmap.\n",
    "# You'll prepare these from your data - this is just the raw numerical data that the\n",
    "# heatmap is generated from.\n",
    "N_FRAMES = 100\n",
    "DIMS = (600, 300)\n",
    "\n",
    "# Where the above-mentioned data is stored.\n",
    "PATH_OUT = 'src/data/'\n",
    "\n",
    "# This is size of our viewing window for the final visualization.\n",
    "DIMS_DISPLAY = (400, 200)\n",
    "\n",
    "\n",
    "# This generates the data\n",
    "DG(n_frames=N_FRAMES,\n",
    "   dimensions=DIMS,\n",
    "   path_out=PATH_OUT\n",
    "  );"
   ]
  },
  {
   "cell_type": "markdown",
   "id": "94b65dd8-e089-48df-9592-3221a4872757",
   "metadata": {},
   "source": [
    "---\n",
    "\n",
    "The implementation below is specific to showing in a notebook.\n",
    "\n",
    "All you need to use this elsewhere (Streamlit, Dash, etc.) is to write a function that provides a ScrollableHeatmap object with x,y, and t."
   ]
  },
  {
   "cell_type": "code",
   "execution_count": 2,
   "id": "091379ee-8211-4842-8f06-f64b183112bb",
   "metadata": {},
   "outputs": [],
   "source": [
    "import matplotlib.pyplot as plt\n",
    "from ipywidgets import interactive\n",
    "from src.scrollable_heatmap import ScrollableHeatmap as SH\n",
    "%matplotlib inline\n",
    "\n",
    "# Instantiate a ScrollableHeatmap\n",
    "sh = SH()\n",
    "\n",
    "\n",
    "# Define how we'll display the output from the SH\n",
    "def heatmap(x: int=0,\n",
    "            y: int=0,\n",
    "            t: int=0\n",
    "           ):\n",
    "\n",
    "    #========================================================================\n",
    "    # An even faster way to do things like this is to \n",
    "    # not create a new figure each time, but update the data\n",
    "    # in the existing figure. However, this might be complicated\n",
    "    # by the interface you are using (e.g, Streamlit, Dash, PyQt, etc.)\n",
    "    #\n",
    "    # For a single heatmap that's not a gazillion pixels it *shouldn't* be a big deal.\n",
    "    #\n",
    "    fig, ax = plt.subplots(figsize=(3,6))\n",
    "    #\n",
    "    #========================================================================\n",
    "\n",
    "    w = DIMS_DISPLAY[1]\n",
    "    h = DIMS_DISPLAY[0]\n",
    "    \n",
    "    # Get the data\n",
    "    frame = sh.get_subset(x,y,w,h,t)\n",
    "    \n",
    "    # Show the data\n",
    "    ax.imshow(frame, cmap='inferno')\n",
    "    return fig, ax"
   ]
  },
  {
   "cell_type": "code",
   "execution_count": 3,
   "id": "d52fd4fc-82cb-430e-ad13-cc2c8a05008e",
   "metadata": {},
   "outputs": [
    {
     "data": {
      "image/png": "[encoded data removed]",
      "text/plain": [
       "<Figure size 300x600 with 1 Axes>"
      ]
     },
     "metadata": {},
     "output_type": "display_data"
    },
    {
     "data": {
      "application/vnd.jupyter.widget-view+json": {
       "model_id": "0c575e131514492daa51cfc47a2b874d",
       "version_major": 2,
       "version_minor": 0
      },
      "text/plain": [
       "interactive(children=(IntSlider(value=0, description='x'), IntSlider(value=0, description='y', max=200), IntSl…"
      ]
     },
     "execution_count": 3,
     "metadata": {},
     "output_type": "execute_result"
    }
   ],
   "source": [
    "hm = interactive(heatmap, \n",
    "                 x=(0, DIMS[1]-DIMS_DISPLAY[1], 1), \n",
    "                 y=(0, DIMS[0]-DIMS_DISPLAY[0], 1),\n",
    "                 t=(0, N_FRAMES-1, 1)\n",
    "                )\n",
    "hm"
   ]
  },
  {
   "cell_type": "code",
   "execution_count": null,
   "id": "9048ccdc-f564-40c1-9ae2-4e75b6d8c4cd",
   "metadata": {},
   "outputs": [],
   "source": []
  },
  {
   "cell_type": "code",
   "execution_count": null,
   "id": "ed8eba12-d510-4a59-9083-f196ee835de1",
   "metadata": {},
   "outputs": [],
   "source": []
  }
 ],
 "metadata": {
  "kernelspec": {
   "display_name": "Python 3 (ipykernel)",
   "language": "python",
   "name": "python3"
  },
  "language_info": {
   "codemirror_mode": {
    "name": "ipython",
    "version": 3
   },
   "file_extension": ".py",
   "mimetype": "text/x-python",
   "name": "python",
   "nbconvert_exporter": "python",
   "pygments_lexer": "ipython3",
   "version": "3.10.10"
  }
 },
 "nbformat": 4,
 "nbformat_minor": 5
}
