{
 "cells": [
  {
   "cell_type": "code",
   "execution_count": 39,
   "id": "6ab0c6d2-be08-4cc0-85d7-7098ff95ef1b",
   "metadata": {},
   "outputs": [],
   "source": [
    "# Number of frames\n",
    "#  These would be the already computed arrays for the heatmap,\n",
    "#  i.e., already integrated over time, and formatted as a numpy array\n",
    "N_FRAMES = 100\n",
    "\n",
    "# Full dimensions of each frame (i.e., the full detector region)\n",
    "DIMS = (600, 800)\n",
    "\n",
    "# This is size of our viewing window for the final visualization.\n",
    "DIMS_DISPLAY = (100, 200)\n",
    "\n",
    "# Where so store the data\n",
    "PATH_DATA = 'data/'"
   ]
  },
  {
   "cell_type": "code",
   "execution_count": 40,
   "id": "b71b28d9-9699-49c8-b58a-fe416ef29bed",
   "metadata": {},
   "outputs": [
    {
     "name": "stdout",
     "output_type": "stream",
     "text": [
      "Generating frame 100\n"
     ]
    }
   ],
   "source": [
    "# This generates the data\n",
    "from src.data_generator import DataGenerator as DG\n",
    "DG(n_frames=N_FRAMES,\n",
    "   dimensions=DIMS,\n",
    "   path_out=PATH_DATA\n",
    "  );"
   ]
  },
  {
   "cell_type": "code",
   "execution_count": 41,
   "id": "091379ee-8211-4842-8f06-f64b183112bb",
   "metadata": {},
   "outputs": [],
   "source": [
    "# For this demo, I'm just showing it in a notebook using ipywidgets\n",
    "import matplotlib.pyplot as plt\n",
    "from ipywidgets import interact\n",
    "%matplotlib inline\n",
    "\n",
    "\n",
    "# This module contains the code for the ScrollableHeatmap.\n",
    "# By itself, it doesn't plot anything. It just grabs the region\n",
    "# of the array that we're displaying, which can then be passed to any\n",
    "# other plotting function/library of your choice.\n",
    "from src.scrollable_heatmap import ScrollableHeatmap as SH\n",
    "\n",
    "# Create the object\n",
    "sh = SH()\n",
    "\n",
    "\n",
    "# Define how we'll display the output from the SH\n",
    "def heatmap(x: int=0,\n",
    "            y: int=0,\n",
    "            t: int=0\n",
    "           ):\n",
    "    fig, ax = plt.subplots(figsize=(5,10))\n",
    "\n",
    "    w = DIMS_DISPLAY[1]\n",
    "    h = DIMS_DISPLAY[0]\n",
    "    \n",
    "    # Get the data\n",
    "    frame = sh.get_subset(x,y,w,h,t)\n",
    "    \n",
    "    # Show the data\n",
    "    ax.imshow(frame, cmap='inferno', origin='lower')\n",
    "\n",
    "    # Update tick marks\n",
    "    ax.set_xticks([0,99,199], [x, x+w//2, x+w])\n",
    "    ax.set_yticks([0,49,99], [y, y+h//2, y+h])\n",
    "    return"
   ]
  },
  {
   "cell_type": "code",
   "execution_count": 42,
   "id": "d52fd4fc-82cb-430e-ad13-cc2c8a05008e",
   "metadata": {},
   "outputs": [
    {
     "data": {
      "application/vnd.jupyter.widget-view+json": {
       "model_id": "9a1543ce155945538adbd53dc05f6d52",
       "version_major": 2,
       "version_minor": 0
      },
      "text/plain": [
       "interactive(children=(IntSlider(value=0, description='x', max=600), IntSlider(value=0, description='y', max=50…"
      ]
     },
     "metadata": {},
     "output_type": "display_data"
    }
   ],
   "source": [
    "interact(heatmap, \n",
    "         x=(0, DIMS[1]-DIMS_DISPLAY[1], 1), \n",
    "         y=(0, DIMS[0]-DIMS_DISPLAY[0], 1),\n",
    "         t=(0, N_FRAMES-1, 1)\n",
    "        );"
   ]
  },
  {
   "cell_type": "code",
   "execution_count": null,
   "id": "7df75272-7c70-4b54-b413-5fe3b7f642a1",
   "metadata": {},
   "outputs": [],
   "source": []
  }
 ],
 "metadata": {
  "kernelspec": {
   "display_name": "Python 3 (ipykernel)",
   "language": "python",
   "name": "python3"
  },
  "language_info": {
   "codemirror_mode": {
    "name": "ipython",
    "version": 3
   },
   "file_extension": ".py",
   "mimetype": "text/x-python",
   "name": "python",
   "nbconvert_exporter": "python",
   "pygments_lexer": "ipython3",
   "version": "3.10.10"
  }
 },
 "nbformat": 4,
 "nbformat_minor": 5
}
